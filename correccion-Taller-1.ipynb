{
 "cells": [
  {
   "attachments": {},
   "cell_type": "markdown",
   "metadata": {},
   "source": [
    "## Punto1"
   ]
  },
  {
   "cell_type": "code",
   "execution_count": null,
   "metadata": {},
   "outputs": [],
   "source": [
    "def puntoA (n: int) -> list:\n",
    "    condicion = True\n",
    "    secuencia = []\n",
    "    if n> 1:\n",
    "        while condicion:#El entero estara en la funcion hasta que el ultimo valor de su secuencia sea 1\n",
    "            secuencia.append(int(n))\n",
    "            if n == 1:\n",
    "                condicion = False\n",
    "            elif (n % 2) == 0:\n",
    "                n = n/2\n",
    "            else: \n",
    "                n= (n * 3) + 1\n",
    "    return secuencia "
   ]
  },
  {
   "cell_type": "code",
   "execution_count": null,
   "metadata": {},
   "outputs": [],
   "source": [
    "print(puntoA(6))"
   ]
  },
  {
   "cell_type": "code",
   "execution_count": null,
   "metadata": {},
   "outputs": [],
   "source": [
    "def secuencia_mas_larga(m:int) -> int:\n",
    "    max_longitud = 0\n",
    "    max_numero = 0\n",
    "    for n in range(2, m):\n",
    "        longitud = len(puntoA(n)) #Determina no sólo la longitud, sino que selecciona la secuencia más larga\n",
    "        if longitud > max_longitud:\n",
    "            max_longitud = longitud\n",
    "            max_numero = n\n",
    "    return max_numero, longitud"
   ]
  },
  {
   "cell_type": "code",
   "execution_count": null,
   "metadata": {},
   "outputs": [],
   "source": [
    "print(secuencia_mas_larga(7))"
   ]
  },
  {
   "cell_type": "code",
   "execution_count": null,
   "metadata": {},
   "outputs": [],
   "source": [
    "def creacion_diccionario(m:int) -> dict:\n",
    "    dic_numeros = {1:1}  #Se crea el diccionario vacío con el fin de que este se rellene a partir del entero que recibe la función\n",
    "    for i in range(2, m):\n",
    "        longitud = len(puntoA(i))\n",
    "        dic_numeros[i] = longitud #Se establece la igualdad para indicar los diccionarios vienen dados por los valores de la secuencia de cada entero n \n",
    "    return dic_numeros"
   ]
  },
  {
   "cell_type": "code",
   "execution_count": null,
   "metadata": {},
   "outputs": [],
   "source": [
    "print(creacion_diccionario(7))"
   ]
  },
  {
   "cell_type": "code",
   "execution_count": null,
   "metadata": {},
   "outputs": [],
   "source": [
    "def creacion_A_dict_rapida(m,dictionary):\n",
    "    L=[]\n",
    "    while m!=1:\n",
    "        if m in dictionary.keys():\n",
    "            return len(L)+ dictionary[m]\n",
    "        if m%2==0:\n",
    "            m=m/2\n",
    "        else:\n",
    "            m=3*m+1\n",
    "        L.append(m)\n",
    "    return len(L)\n"
   ]
  },
  {
   "cell_type": "code",
   "execution_count": null,
   "metadata": {},
   "outputs": [],
   "source": [
    "def creacion_diccionario_rapido(m:int) -> dict:\n",
    "    dic_numeros = {1:1}  #Se crea el diccionario vacío con el fin de que este se rellene a partir del entero que recibe la función\n",
    "    for i in range(2, m):\n",
    "        longitud = creacion_A_dict_rapida(i,dic_numeros)\n",
    "        dic_numeros[i] = longitud #Se establece la igualdad para indicar los diccionarios vienen dados por los valores de la secuencia de cada entero n \n",
    "    return dic_numeros"
   ]
  },
  {
   "cell_type": "code",
   "execution_count": null,
   "metadata": {},
   "outputs": [],
   "source": [
    "creacion_diccionario(1000)"
   ]
  },
  {
   "cell_type": "code",
   "execution_count": null,
   "metadata": {},
   "outputs": [],
   "source": [
    "creacion_diccionario_rapido(1000);"
   ]
  },
  {
   "cell_type": "markdown",
   "metadata": {},
   "source": [
    "## Punto2"
   ]
  },
  {
   "cell_type": "code",
   "execution_count": null,
   "metadata": {},
   "outputs": [],
   "source": [
    "import numpy as np"
   ]
  },
  {
   "cell_type": "code",
   "execution_count": null,
   "metadata": {},
   "outputs": [],
   "source": [
    "def euclidean_distance(x,z):\n",
    "    d = np.sqrt(np.sum(np.power(x-z, 2)))\n",
    "    return d"
   ]
  },
  {
   "cell_type": "code",
   "execution_count": null,
   "metadata": {},
   "outputs": [],
   "source": [
    "def nearest_neighbor(x, X_train):                                   \n",
    "    posibles_respuestas = np.zeros(len(X_train))                    \n",
    "    for i in range(0,len(X_train)):                                 \n",
    "        posibles_respuestas[i]=euclidean_distance(x, X_train[i]) \n",
    "    minima_distancia = np.argmin(posibles_respuestas)       \n",
    "    return X_train[minima_distancia] "
   ]
  },
  {
   "cell_type": "code",
   "execution_count": null,
   "metadata": {},
   "outputs": [],
   "source": [
    "def nearest_neighbor2(x, X_train):                                   \n",
    "    minima_distancia = np.argmin(np.sqrt(np.sum((x-X_train)**2,axis=1)))       \n",
    "    return X_train[minima_distancia] "
   ]
  },
  {
   "cell_type": "code",
   "execution_count": null,
   "metadata": {},
   "outputs": [],
   "source": [
    "x = np.array([1,2,3,4])\n",
    "X_train = np.array([[5,6,7,8],[5,2,4,10], [13,14,15,16],[17,18,19,20]])\n",
    "k=2 \n",
    "print(nearest_neighbor(x,X_train))\n",
    "print(nearest_neighbor2(x,X_train))"
   ]
  },
  {
   "cell_type": "code",
   "execution_count": null,
   "metadata": {},
   "outputs": [],
   "source": [
    "np.sqrt(np.sum((x-X_train)**2,axis=1))"
   ]
  },
  {
   "cell_type": "code",
   "execution_count": null,
   "metadata": {},
   "outputs": [],
   "source": [
    "for i in range(100000):\n",
    "    nearest_neighbor(x,X_train)"
   ]
  },
  {
   "cell_type": "code",
   "execution_count": null,
   "metadata": {},
   "outputs": [],
   "source": [
    "for i in range(100000):\n",
    "    nearest_neighbor2(x, X_train)"
   ]
  },
  {
   "cell_type": "code",
   "execution_count": null,
   "metadata": {},
   "outputs": [],
   "source": [
    "def k_nearest_neighbors(x, X_train, k):            \n",
    "    distancias = np.zeros(len(X_train))                    \n",
    "    for i in range(0, len(X_train)):                      \n",
    "        distancias[i]= euclidean_distance(x, X_train[i])  \n",
    "    ubicaciones= np.argsort(distancias)                    \n",
    "    u_requeridas = ubicaciones[:k]                         \n",
    "    return X_train[u_requeridas]  "
   ]
  },
  {
   "cell_type": "code",
   "execution_count": null,
   "metadata": {},
   "outputs": [],
   "source": [
    "def k_nearest_neighbors2(x, X_train, k):\n",
    "    distancias = np.sqrt(np.sum((x-X_train)**2,axis=1))\n",
    "    ubicaciones= np.argsort(distancias)                    \n",
    "    u_requeridas = ubicaciones[:k]                         \n",
    "    return X_train[u_requeridas]  "
   ]
  },
  {
   "cell_type": "code",
   "execution_count": null,
   "metadata": {},
   "outputs": [],
   "source": [
    "def k_nearest_neighbors_idx(x, X_train, k):\n",
    "    distancias = np.sqrt(np.sum((x-X_train)**2,axis=1))\n",
    "    ubicaciones= np.argsort(distancias)                    \n",
    "    u_requeridas = ubicaciones[:k]                         \n",
    "    return X_train[u_requeridas] , u_requeridas"
   ]
  },
  {
   "cell_type": "code",
   "execution_count": null,
   "metadata": {},
   "outputs": [],
   "source": [
    "print(k_nearest_neighbors(x,X_train,k)) "
   ]
  },
  {
   "cell_type": "code",
   "execution_count": null,
   "metadata": {},
   "outputs": [],
   "source": [
    "print(k_nearest_neighbors_idx(x,X_train,k)[0])\n",
    "print(k_nearest_neighbors_idx(x,X_train,k)[1])"
   ]
  },
  {
   "cell_type": "code",
   "execution_count": null,
   "metadata": {},
   "outputs": [],
   "source": [
    "print(k_nearest_neighbors2(x,X_train,k)) "
   ]
  },
  {
   "cell_type": "code",
   "execution_count": null,
   "metadata": {},
   "outputs": [],
   "source": [
    "def predict_class(x,X_train,Y_train,k):\n",
    "    Train_dict = {tuple(X_train[i]):Y_train[i] for i in range(len(X_train))}        \n",
    "    nearest_neighbors = k_nearest_neighbors(x,X_train,k)                            \n",
    "    prop = sum([Train_dict[tuple(neighbor)] for neighbor in nearest_neighbors])/k   \n",
    "    if prop > 0.5:\n",
    "        return 1                                                                   \n",
    "    elif prop < 0.5:\n",
    "        return 0                                                                   \n",
    "    else:\n",
    "        return np.random.binomial(1,0.5)    "
   ]
  },
  {
   "cell_type": "code",
   "execution_count": null,
   "metadata": {},
   "outputs": [],
   "source": [
    "def predict_class2(x,X_train,Y_train,k):  \n",
    "    _, idx= k_nearest_neighbors_idx(x,X_train,k)                            \n",
    "    prop = sum(Y_train[idx])/k   \n",
    "    if prop > 0.5:\n",
    "        return 1                                                                   \n",
    "    elif prop < 0.5:\n",
    "        return 0                                                                   \n",
    "    else:\n",
    "        return np.random.binomial(1,0.5)   "
   ]
  },
  {
   "cell_type": "code",
   "execution_count": null,
   "metadata": {},
   "outputs": [],
   "source": [
    "x = np.array([1,2,3,4])\n",
    "X_train = np.array([[5,6,7,8],[9,10,11,12],[13,14,15,16],[17,18,19,20],[21,22,23,24]])\n",
    "Y_train = np.array([1,0,0,1,0])\n",
    "k = 3"
   ]
  },
  {
   "cell_type": "code",
   "execution_count": null,
   "metadata": {},
   "outputs": [],
   "source": [
    "print(predict_class(x,X_train,Y_train,k)) "
   ]
  },
  {
   "cell_type": "code",
   "execution_count": null,
   "metadata": {},
   "outputs": [],
   "source": [
    "print(predict_class2(x,X_train,Y_train,k)) \n"
   ]
  },
  {
   "cell_type": "code",
   "execution_count": null,
   "metadata": {},
   "outputs": [],
   "source": [
    "def predict_test_set(X_test,X_train,Y_train,k):\n",
    "    Y_pred = np.array([predict_class(x,X_train,Y_train,k) for x in X_test])\n",
    "    return Y_pred"
   ]
  },
  {
   "cell_type": "code",
   "execution_count": null,
   "metadata": {},
   "outputs": [],
   "source": [
    "def predict_test_set2(X_test,X_train,Y_train,k):\n",
    "    Y_pred = np.array([predict_class(x,X_train,Y_train,k) for x in X_test])\n",
    "    return Y_pred"
   ]
  },
  {
   "cell_type": "code",
   "execution_count": null,
   "metadata": {},
   "outputs": [],
   "source": [
    "def calculate_metrics(Y_test, Y_pred):\n",
    "    TP = ((Y_test == Y_pred) & (Y_pred == 1)).sum()\n",
    "    TN = ((Y_test == Y_pred) & (Y_pred == 0)).sum()\n",
    "    FP = ((Y_test != Y_pred) & (Y_pred == 1)).sum()\n",
    "    FN = ((Y_test != Y_pred) & (Y_pred == 0)).sum()\n",
    "    scores = dict()\n",
    "    scores[\"Accuracy\"] = (TP + TN)/(TP + FP + FN + TN)\n",
    "    scores[\"Precision\"] = TP/(TP + FP)\n",
    "    scores[\"Recall\"] = TP/(TP + FN)\n",
    "    scores[\"F1 Score\"] = 2*scores[\"Recall\"]*scores[\"Precision\"]/(\n",
    "        scores[\"Recall\"] + scores[\"Precision\"])\n",
    "    scores[\"Specificity\"] = TN/(TN + FP)\n",
    "    return scores"
   ]
  },
  {
   "attachments": {},
   "cell_type": "markdown",
   "metadata": {},
   "source": [
    "# Punto 3"
   ]
  },
  {
   "cell_type": "code",
   "execution_count": null,
   "metadata": {},
   "outputs": [],
   "source": [
    "import pandas as pd\n"
   ]
  },
  {
   "cell_type": "code",
   "execution_count": null,
   "metadata": {},
   "outputs": [],
   "source": [
    "df = pd.DataFrame (np.random.uniform(0.0,1.0,size=(1000, 10)))\n",
    "df.head(5)"
   ]
  },
  {
   "cell_type": "code",
   "execution_count": null,
   "metadata": {},
   "outputs": [],
   "source": [
    "df['y_sum'] = (df.sum(axis=1) > 5).astype(int) \n",
    "df.head(5)"
   ]
  },
  {
   "cell_type": "code",
   "execution_count": null,
   "metadata": {},
   "outputs": [],
   "source": [
    "def mayor_que_5(row):\n",
    "    if row.sum() > 5:\n",
    "        return 1\n",
    "    else:\n",
    "        return 0"
   ]
  },
  {
   "cell_type": "code",
   "execution_count": null,
   "metadata": {},
   "outputs": [],
   "source": [
    "df['y_sum'] = df.apply(mayor_que_5, axis=1)"
   ]
  },
  {
   "cell_type": "code",
   "execution_count": null,
   "metadata": {},
   "outputs": [],
   "source": [
    "df['y_sum_par'] = (df.iloc[:, 0:10:2].sum(axis=1)>3).astype(int)"
   ]
  },
  {
   "cell_type": "code",
   "execution_count": null,
   "metadata": {},
   "outputs": [],
   "source": [
    "df['y_sum_impar'] = (df.iloc[:, 1:10:2].sum(axis=1)>2).astype(int)\n"
   ]
  },
  {
   "cell_type": "code",
   "execution_count": null,
   "metadata": {},
   "outputs": [],
   "source": [
    "df.sum(axis=0)"
   ]
  },
  {
   "cell_type": "code",
   "execution_count": null,
   "metadata": {},
   "outputs": [],
   "source": [
    "variables = ['y_sum', 'y_sum_par', 'y_sum_impar']\n",
    "split=[list(range(250*i,250*i+250)) for i in range(4)]\n"
   ]
  },
  {
   "cell_type": "code",
   "execution_count": null,
   "metadata": {},
   "outputs": [],
   "source": [
    "len(split[:0]+split[1:])"
   ]
  },
  {
   "cell_type": "code",
   "execution_count": null,
   "metadata": {},
   "outputs": [],
   "source": [
    "len(sum(split[:0]+split[1:],[]))"
   ]
  },
  {
   "cell_type": "code",
   "execution_count": null,
   "metadata": {},
   "outputs": [],
   "source": [
    "print(split[0])\n",
    "print(split[1])\n",
    "print(split[2])\n",
    "print(split[3])"
   ]
  },
  {
   "cell_type": "code",
   "execution_count": null,
   "metadata": {},
   "outputs": [],
   "source": [
    "def CrossValidation(df, y, k):\n",
    "    info = df[[i for i in range(10)] + [y]]                        \n",
    "    info_separated = [info.iloc[250*i:250*i+250,:] for i in range(4)]  \n",
    "    temporal_dict = {}\n",
    "    for i in range(4):                                                    \n",
    "        info_test = info_separated[i]                                  \n",
    "        X_test = info_test.iloc[:,1:10].values                 \n",
    "        Y_test = info_test[y].values                               \n",
    "        info_train = pd.concat(info_separated[:i] + info_separated[i+1:])\n",
    "        X_train = info_train.iloc[:,1:10].values                        \n",
    "        Y_train = info_train[y].values                           \n",
    "        Y_pred = predict_test_set(X_test,X_train,Y_train,k)                \n",
    "        metrics = calculate_metrics(Y_test, Y_pred)                     \n",
    "        temporal_dict['Iter '+str(i+1)] = metrics\n",
    "    return temporal_dict"
   ]
  },
  {
   "cell_type": "code",
   "execution_count": null,
   "metadata": {},
   "outputs": [],
   "source": [
    "def CrossValidation2(df, y, k):\n",
    "    df = df[[i for i in range(10)] + [y]]                        \n",
    "    split=[list(range(250*i,250*i+250)) for i in range(4)]\n",
    "    temporal_dict = {}\n",
    "    for i in range(4):                                                                                         \n",
    "        X_test = df.iloc[split[i],:10].values                 \n",
    "        Y_test = df.iloc[split[i]][y].values      \n",
    "        idxs= sum(split[:i]+split[i+1:],[])                         \n",
    "        X_train = df.iloc[idxs,:10].values                        \n",
    "        Y_train = df.iloc[idxs][y].values                           \n",
    "        Y_pred = predict_test_set2(X_test,X_train,Y_train,k)                \n",
    "        metrics = calculate_metrics(Y_test, Y_pred)                     \n",
    "        temporal_dict['Iter '+str(i+1)] = metrics\n",
    "    return temporal_dict"
   ]
  },
  {
   "cell_type": "code",
   "execution_count": null,
   "metadata": {},
   "outputs": [],
   "source": [
    "def evaluate(df, k):\n",
    "    result = {}\n",
    "    for y in df.columns[-3:]:\n",
    "        result[y] = CrossValidation(df, y, k)\n",
    "    return result"
   ]
  },
  {
   "cell_type": "code",
   "execution_count": null,
   "metadata": {},
   "outputs": [],
   "source": [
    "k = 3\n",
    "y = 'y_sum'\n",
    "resp=evaluate(df, k)"
   ]
  },
  {
   "cell_type": "code",
   "execution_count": null,
   "metadata": {},
   "outputs": [],
   "source": []
  },
  {
   "cell_type": "code",
   "execution_count": null,
   "metadata": {},
   "outputs": [],
   "source": []
  }
 ],
 "metadata": {
  "kernelspec": {
   "display_name": "envtopicos",
   "language": "python",
   "name": "python3"
  },
  "language_info": {
   "codemirror_mode": {
    "name": "ipython",
    "version": 3
   },
   "file_extension": ".py",
   "mimetype": "text/x-python",
   "name": "python",
   "nbconvert_exporter": "python",
   "pygments_lexer": "ipython3",
   "version": "3.10.9"
  },
  "orig_nbformat": 4
 },
 "nbformat": 4,
 "nbformat_minor": 2
}
